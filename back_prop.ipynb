{
 "cells": [
  {
   "cell_type": "code",
   "execution_count": 1,
   "metadata": {
    "id": "ypcaLwroQ1k5"
   },
   "outputs": [],
   "source": [
    "#importing necessary libs\n",
    "import numpy as np\n",
    "import matplotlib.pyplot as plt\n",
    "import random"
   ]
  },
  {
   "cell_type": "code",
   "execution_count": null,
   "metadata": {
    "id": "Q2CdCRSKQ82R"
   },
   "outputs": [],
   "source": []
  },
  {
   "cell_type": "code",
   "execution_count": 2,
   "metadata": {
    "id": "6dxBV8bBRAP-"
   },
   "outputs": [],
   "source": [
    "#back prop implemented from scratch\n",
    "def Back_Propagation(inp, desired_output, no_of_perceptron_in_hidden_layer, learning_rate, epoch,seed):\n",
    "    \n",
    "    np.random.seed(seed)\n",
    "    n=no_of_perceptron_in_hidden_layer\n",
    "    w1 = np.array(np.random.rand(n,2))\n",
    "    w2= np.random.rand(1,n+1)[0]\n",
    "\n",
    "    lr= learning_rate\n",
    "    \n",
    "    def sigmoid(x):\n",
    "        try:\n",
    "            return np.array([((np.exp(x)-np.exp(-x))/(np.exp(x)+np.exp(-x))) for x in x])\n",
    "        except:\n",
    "            return np.array((np.exp(x)-np.exp(-x))/(np.exp(x)+np.exp(-x)))\n",
    "        \n",
    "    error_history= np.zeros(epoch)\n",
    "        \n",
    "    for i in range(epoch):\n",
    "            for x,yd in zip(inp,desired_output):\n",
    "                x= np.array([1, x])\n",
    "                v1= np.dot(w1,np.reshape(x,(2,1)))\n",
    "                y1 = sigmoid(v1)\n",
    "\n",
    "                y1=np.insert(y1,0,1)\n",
    "                v2= np.dot(w2,y1)\n",
    "                y2= sigmoid(v2)\n",
    "\n",
    "                e= (y2 - yd)\n",
    "    \n",
    "                dl2= e * (1 - y2**2)\n",
    "                dw2= np.array(dl2*y1)\n",
    "\n",
    "                dl1=np.transpose(dl2 * w2[1:])* np.transpose(sigmoid(v1)*(1-sigmoid(v1)))\n",
    "                dw1= np.dot((np.reshape(dl1,(n,1))), np.reshape(x,(1,2)))\n",
    "    \n",
    "                w2= w2-lr*dw2\n",
    "                w1= w1-lr*dw1\n",
    "    \n",
    "            error_history[i]=e\n",
    "        \n",
    "    #plt.plot([x for x in range(epoch)],error_history)\n",
    "    #plt.title(\"Squared Error\")\n",
    "    #plt.ylabel(\"ERROR\")\n",
    "    #plt.xlabel(\"EPOCH\")\n",
    "    #plt.show()\n",
    "    \n",
    "    def predict(x):        \n",
    "        res=[]\n",
    "        for x1 in x:\n",
    "            x=np.array([1,x1])\n",
    "            y1=sigmoid(np.dot(w1,x.T))\n",
    "            y1=np.insert(y1,0,1)\n",
    "            y2=sigmoid(np.dot(w2,y1))\n",
    "            res.append(y2)\n",
    "        return res\n",
    "\n",
    "    def accuracy(y_pred, y_test):        \n",
    "        acc=[]\n",
    "        for yp,yt in zip(y_pred, y_test):\n",
    "            acc.append(100 - ((abs(yt-yp))*100/yt))\n",
    "        return np.mean(acc)\n",
    "\n",
    "    yp=predict(inp)  \n",
    "\n",
    "    plt.scatter(inp,out,color='r',label='test_value')\n",
    "    plt.plot(inp,yp,color='g',label='pred_value')\n",
    "    plt.legend()  \n",
    "\n",
    "    \n",
    "    print(\"Train accuracy is\",accuracy(yp,desired_output),\"%\")\n",
    "    return w1, w2  \n",
    "\n",
    "    \n",
    "      "
   ]
  },
  {
   "cell_type": "code",
   "execution_count": 3,
   "metadata": {
    "id": "myvpU-XjBflj"
   },
   "outputs": [],
   "source": [
    "#function that prints test accuracy\n",
    "def test_accuracy(x_test, y_test):\n",
    "\n",
    "    def sigmoid(x):\n",
    "        try:\n",
    "            return np.array([((np.exp(x)-np.exp(-x))/(np.exp(x)+np.exp(-x))) for x in x])\n",
    "        except:\n",
    "            return np.array((np.exp(x)-np.exp(-x))/(np.exp(x)+np.exp(-x)))\n",
    "\n",
    "    def predict(x):\n",
    "        res=[]\n",
    "        for x1 in x:\n",
    "            x=np.array([1,x1])\n",
    "            y1=sigmoid(np.dot(w1,x.T))\n",
    "            y1=np.insert(y1,0,1)\n",
    "            y2=sigmoid(np.dot(w2,y1))\n",
    "            res.append(y2)\n",
    "        return res\n",
    "\n",
    "    def accuracy(y_pred, y_test):\n",
    "        acc=[]\n",
    "        for yp,yt in zip(y_pred, y_test):\n",
    "            acc.append(100 - ((abs(yt-yp))*100/yt))\n",
    "        return np.mean(acc)\n",
    "\n",
    "    yp=predict(x_test)\n",
    "    print(\"Test accuracy is\",accuracy(yp,y_test),\"%\")"
   ]
  },
  {
   "cell_type": "code",
   "execution_count": 4,
   "metadata": {},
   "outputs": [],
   "source": [
    "def train_test_split(inp,out):    \n",
    "    x_test=inp[int(len(inp)*0.8):]\n",
    "    y_test= out[int(len(out)*0.8):]\n",
    "    return inp,out,x_test,y_test"
   ]
  },
  {
   "cell_type": "code",
   "execution_count": null,
   "metadata": {
    "id": "oIdkcFRJD080"
   },
   "outputs": [],
   "source": []
  },
  {
   "cell_type": "code",
   "execution_count": 5,
   "metadata": {
    "id": "xOF9w9AQBfo0"
   },
   "outputs": [
    {
     "name": "stdout",
     "output_type": "stream",
     "text": [
      "f(x)= 1/x\n"
     ]
    }
   ],
   "source": [
    "print(\"f(x)= 1/x\")\n",
    "inp=np.array([x for x in range(1,101)])\n",
    "out=np.array([1/x for x in inp])\n",
    "x_train,y_train,x_test,y_test=train_test_split(inp,out)"
   ]
  },
  {
   "cell_type": "code",
   "execution_count": 6,
   "metadata": {
    "colab": {
     "base_uri": "https://localhost:8080/",
     "height": 298
    },
    "id": "nKP2zaErBfjS",
    "outputId": "5fba32fa-4243-470c-95e4-e2a005cc4354"
   },
   "outputs": [
    {
     "name": "stdout",
     "output_type": "stream",
     "text": [
      "Network with 2 perceptrons in the single hidden layer\n",
      "Train accuracy is 83.98862114136473 %\n",
      "Test accuracy is 70.48918379242066 %\n"
     ]
    },
    {
     "data": {
      "image/png": "[encoded data removed]",
      "text/plain": [
       "<Figure size 432x288 with 1 Axes>"
      ]
     },
     "metadata": {
      "needs_background": "light"
     },
     "output_type": "display_data"
    }
   ],
   "source": [
    "print(\"Network with 2 perceptrons in the single hidden layer\")\n",
    "w1,w2=Back_Propagation(x_train,y_train,2,0.01, 1000,2)\n",
    "test_accuracy(x_test, y_test)"
   ]
  },
  {
   "cell_type": "code",
   "execution_count": 7,
   "metadata": {
    "colab": {
     "base_uri": "https://localhost:8080/",
     "height": 298
    },
    "id": "EWqD1q3sEvNS",
    "outputId": "c29d8992-8839-4cde-b5ca-108bc4b3002d"
   },
   "outputs": [
    {
     "name": "stdout",
     "output_type": "stream",
     "text": [
      "Network with 5 perceptrons in the single hidden layer\n",
      "Train accuracy is 95.00390968987162 %\n",
      "Test accuracy is 95.20301387851511 %\n"
     ]
    },
    {
     "data": {
      "image/png": "[encoded data removed]",
      "text/plain": [
       "<Figure size 432x288 with 1 Axes>"
      ]
     },
     "metadata": {
      "needs_background": "light"
     },
     "output_type": "display_data"
    }
   ],
   "source": [
    "print(\"Network with 5 perceptrons in the single hidden layer\")\n",
    "w1,w2=Back_Propagation(x_train,y_train,5,0.2, 1000,2)\n",
    "test_accuracy(x_test, y_test)"
   ]
  },
  {
   "cell_type": "code",
   "execution_count": null,
   "metadata": {
    "id": "LfGQCyk0RFlQ"
   },
   "outputs": [],
   "source": []
  },
  {
   "cell_type": "code",
   "execution_count": 8,
   "metadata": {
    "id": "_X3T8vCXRQ-n"
   },
   "outputs": [
    {
     "name": "stdout",
     "output_type": "stream",
     "text": [
      "f(x)= e^(-x)\n"
     ]
    }
   ],
   "source": [
    "print(\"f(x)= e^(-x)\") \n",
    "inp=np.array([x*0.1 for x in range(1,101)])\n",
    "out=np.array([np.exp(-x) for x in inp])\n",
    "x_train,y_train,x_test,y_test=train_test_split(inp,out)"
   ]
  },
  {
   "cell_type": "code",
   "execution_count": 9,
   "metadata": {
    "colab": {
     "base_uri": "https://localhost:8080/",
     "height": 298
    },
    "id": "TvVpjiGU264x",
    "outputId": "a91b4057-209f-472c-e2f5-c21cddd876e3"
   },
   "outputs": [
    {
     "name": "stdout",
     "output_type": "stream",
     "text": [
      "Network with 2 perceptrons in the single hidden layer\n",
      "Train accuracy is 85.81431130375306 %\n",
      "Test accuracy is 80.21158721215274 %\n"
     ]
    },
    {
     "data": {
      "image/png": "[encoded data removed]",
      "text/plain": [
       "<Figure size 432x288 with 1 Axes>"
      ]
     },
     "metadata": {
      "needs_background": "light"
     },
     "output_type": "display_data"
    }
   ],
   "source": [
    "print(\"Network with 2 perceptrons in the single hidden layer\")\n",
    "w1,w2=Back_Propagation(x_train,y_train,2,0.5, 3000,3)\n",
    "test_accuracy(x_test, y_test)"
   ]
  },
  {
   "cell_type": "code",
   "execution_count": 10,
   "metadata": {
    "colab": {
     "base_uri": "https://localhost:8080/",
     "height": 298
    },
    "id": "Ba43gvuV268B",
    "outputId": "acdcde7f-1d54-4533-cd4a-8a98e9182183"
   },
   "outputs": [
    {
     "name": "stdout",
     "output_type": "stream",
     "text": [
      "Network with 5 perceptrons in the single hidden layer\n",
      "Train accuracy is 97.66242992596986 %\n",
      "Test accuracy is 98.490402744681 %\n"
     ]
    },
    {
     "data": {
      "image/png": "[encoded data removed]",
      "text/plain": [
       "<Figure size 432x288 with 1 Axes>"
      ]
     },
     "metadata": {
      "needs_background": "light"
     },
     "output_type": "display_data"
    }
   ],
   "source": [
    "print(\"Network with 5 perceptrons in the single hidden layer\")\n",
    "w1,w2=Back_Propagation(x_train,y_train,5,0.1, 1000,3)\n",
    "test_accuracy(x_test, y_test)"
   ]
  },
  {
   "cell_type": "code",
   "execution_count": null,
   "metadata": {
    "id": "U2Ff9yQJ3RHn"
   },
   "outputs": [],
   "source": []
  },
  {
   "cell_type": "code",
   "execution_count": 11,
   "metadata": {
    "id": "G2IXDWvDGifc"
   },
   "outputs": [
    {
     "name": "stdout",
     "output_type": "stream",
     "text": [
      "f(x)= sin(x)\n"
     ]
    }
   ],
   "source": [
    "print(\"f(x)= sin(x)\")\n",
    "inp=np.linspace(0.001,np.pi/2,100)\n",
    "out=np.sin(inp)\n",
    "x_train,y_train,x_test,y_test=train_test_split(inp,out)"
   ]
  },
  {
   "cell_type": "code",
   "execution_count": 12,
   "metadata": {
    "colab": {
     "base_uri": "https://localhost:8080/",
     "height": 298
    },
    "id": "Zonko3QbGm5G",
    "outputId": "75bf638c-27ea-4e4d-f499-a641439ac476"
   },
   "outputs": [
    {
     "name": "stdout",
     "output_type": "stream",
     "text": [
      "Network with 2 perceptrons in the single hidden layer\n",
      "Train accuracy is 79.34187520541164 %\n",
      "Test accuracy is 98.45581953401117 %\n"
     ]
    },
    {
     "data": {
      "image/png": "[encoded data removed]",
      "text/plain": [
       "<Figure size 432x288 with 1 Axes>"
      ]
     },
     "metadata": {
      "needs_background": "light"
     },
     "output_type": "display_data"
    }
   ],
   "source": [
    "print(\"Network with 2 perceptrons in the single hidden layer\")\n",
    "w1,w2=Back_Propagation(x_train,y_train,2,0.1, 1000,3)\n",
    "test_accuracy(x_test, y_test)"
   ]
  },
  {
   "cell_type": "code",
   "execution_count": 13,
   "metadata": {
    "colab": {
     "base_uri": "https://localhost:8080/",
     "height": 298
    },
    "id": "d_vKeO4HGvmq",
    "outputId": "ba9a649d-6f5b-4825-df16-96e0d9a89c7a"
   },
   "outputs": [
    {
     "name": "stdout",
     "output_type": "stream",
     "text": [
      "Network with 5 perceptrons in the single hidden layer\n",
      "Train accuracy is 98.70078706480213 %\n",
      "Test accuracy is 99.06155959631216 %\n"
     ]
    },
    {
     "data": {
      "image/png": "[encoded data removed]",
      "text/plain": [
       "<Figure size 432x288 with 1 Axes>"
      ]
     },
     "metadata": {
      "needs_background": "light"
     },
     "output_type": "display_data"
    }
   ],
   "source": [
    "print(\"Network with 5 perceptrons in the single hidden layer\")\n",
    "w1,w2=Back_Propagation(x_train,y_train,5,0.1, 2000,3)\n",
    "test_accuracy(x_test, y_test)"
   ]
  },
  {
   "cell_type": "code",
   "execution_count": null,
   "metadata": {
    "id": "ge3y-1ubG6uG"
   },
   "outputs": [],
   "source": []
  }
 ],
 "metadata": {
  "colab": {
   "collapsed_sections": [],
   "name": "back_prop.ipynb",
   "provenance": []
  },
  "kernelspec": {
   "display_name": "Python 3",
   "language": "python",
   "name": "python3"
  },
  "language_info": {
   "codemirror_mode": {
    "name": "ipython",
    "version": 3
   },
   "file_extension": ".py",
   "mimetype": "text/x-python",
   "name": "python",
   "nbconvert_exporter": "python",
   "pygments_lexer": "ipython3",
   "version": "3.7.7"
  }
 },
 "nbformat": 4,
 "nbformat_minor": 1
}
